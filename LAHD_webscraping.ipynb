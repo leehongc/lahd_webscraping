{
 "cells": [
  {
   "cell_type": "code",
   "execution_count": 211,
   "metadata": {},
   "outputs": [],
   "source": [
    "import requests\n",
    "from bs4 import BeautifulSoup\n",
    "import pandas as pd"
   ]
  },
  {
   "cell_type": "markdown",
   "metadata": {},
   "source": [
    "### Property Information"
   ]
  },
  {
   "cell_type": "code",
   "execution_count": 212,
   "metadata": {},
   "outputs": [
    {
     "data": {
      "text/plain": [
       "200"
      ]
     },
     "execution_count": 212,
     "metadata": {},
     "output_type": "execute_result"
    }
   ],
   "source": [
    "url = 'https://housingapp.lacity.org/ReportViolation/Pages/PropAtivityCases?APN=2012013028#divPropDetails'\n",
    "result = requests.get(url)\n",
    "result.status_code"
   ]
  },
  {
   "cell_type": "code",
   "execution_count": 213,
   "metadata": {
    "scrolled": true
   },
   "outputs": [],
   "source": [
    "src = result.content\n",
    "soup = BeautifulSoup(src, 'lxml')"
   ]
  },
  {
   "cell_type": "code",
   "execution_count": 214,
   "metadata": {},
   "outputs": [
    {
     "data": {
      "text/plain": [
       "{'Assessor Parcel Number': '2012013028',\n",
       " 'Total Units (legal unit count may vary)': '20',\n",
       " 'Rent Registration Number': '0295048',\n",
       " '*Census Tract': '134304',\n",
       " '*Council District': '3',\n",
       " 'Official Address': '7851 N TOPANGA CANYON BLVD, CANOGA PARK, CA 93063',\n",
       " 'Total Exemption Units': '0',\n",
       " 'Rent Office ID': 'Valley',\n",
       " 'Code Regional Area': 'Valley Regional Office',\n",
       " 'Year Built': '1974'}"
      ]
     },
     "execution_count": 214,
     "metadata": {},
     "output_type": "execute_result"
    }
   ],
   "source": [
    "info = soup.find('div', class_='card-body bg-white')\n",
    "\n",
    "key_list = info.find_all('dt')\n",
    "value_list = info.find_all('dd')\n",
    "prop_info_dict = {}\n",
    "\n",
    "for key, value in zip(key_list, value_list):\n",
    "    prop_info_dict[key.text[:-1]] = value.text\n",
    "    # this is to remove the extra colon in the key list\n",
    "    \n",
    "prop_info_dict"
   ]
  },
  {
   "cell_type": "markdown",
   "metadata": {},
   "source": [
    "### Property Cases"
   ]
  },
  {
   "cell_type": "code",
   "execution_count": 215,
   "metadata": {
    "scrolled": false
   },
   "outputs": [
    {
     "data": {
      "text/html": [
       "<div>\n",
       "<style scoped>\n",
       "    .dataframe tbody tr th:only-of-type {\n",
       "        vertical-align: middle;\n",
       "    }\n",
       "\n",
       "    .dataframe tbody tr th {\n",
       "        vertical-align: top;\n",
       "    }\n",
       "\n",
       "    .dataframe thead th {\n",
       "        text-align: right;\n",
       "    }\n",
       "</style>\n",
       "<table border=\"1\" class=\"dataframe\">\n",
       "  <thead>\n",
       "    <tr style=\"text-align: right;\">\n",
       "      <th></th>\n",
       "      <th>Case Type</th>\n",
       "      <th>Case Number</th>\n",
       "      <th>Date Closed</th>\n",
       "      <th>Assessor Parcel Number</th>\n",
       "    </tr>\n",
       "  </thead>\n",
       "  <tbody>\n",
       "    <tr>\n",
       "      <th>0</th>\n",
       "      <td>Complaint</td>\n",
       "      <td>757163</td>\n",
       "      <td>02/27/2020</td>\n",
       "      <td>2012013028</td>\n",
       "    </tr>\n",
       "    <tr>\n",
       "      <th>1</th>\n",
       "      <td>Complaint</td>\n",
       "      <td>628954</td>\n",
       "      <td>06/19/2017</td>\n",
       "      <td>2012013028</td>\n",
       "    </tr>\n",
       "    <tr>\n",
       "      <th>2</th>\n",
       "      <td>Complaint</td>\n",
       "      <td>628953</td>\n",
       "      <td>06/19/2017</td>\n",
       "      <td>2012013028</td>\n",
       "    </tr>\n",
       "    <tr>\n",
       "      <th>3</th>\n",
       "      <td>Complaint</td>\n",
       "      <td>628952</td>\n",
       "      <td>08/17/2017</td>\n",
       "      <td>2012013028</td>\n",
       "    </tr>\n",
       "    <tr>\n",
       "      <th>4</th>\n",
       "      <td>Complaint</td>\n",
       "      <td>608891</td>\n",
       "      <td>03/22/2017</td>\n",
       "      <td>2012013028</td>\n",
       "    </tr>\n",
       "    <tr>\n",
       "      <th>5</th>\n",
       "      <td>Complaint</td>\n",
       "      <td>593815</td>\n",
       "      <td>10/25/2016</td>\n",
       "      <td>2012013028</td>\n",
       "    </tr>\n",
       "    <tr>\n",
       "      <th>6</th>\n",
       "      <td>Complaint</td>\n",
       "      <td>593105</td>\n",
       "      <td>10/18/2016</td>\n",
       "      <td>2012013028</td>\n",
       "    </tr>\n",
       "    <tr>\n",
       "      <th>7</th>\n",
       "      <td>Complaint</td>\n",
       "      <td>572108</td>\n",
       "      <td>06/28/2016</td>\n",
       "      <td>2012013028</td>\n",
       "    </tr>\n",
       "    <tr>\n",
       "      <th>8</th>\n",
       "      <td>Property Management Training Program</td>\n",
       "      <td>492351</td>\n",
       "      <td></td>\n",
       "      <td>2012013028</td>\n",
       "    </tr>\n",
       "    <tr>\n",
       "      <th>9</th>\n",
       "      <td>Systematic Code Enforcement Program</td>\n",
       "      <td>492351</td>\n",
       "      <td>03/09/2015</td>\n",
       "      <td>2012013028</td>\n",
       "    </tr>\n",
       "    <tr>\n",
       "      <th>10</th>\n",
       "      <td>Complaint</td>\n",
       "      <td>470860</td>\n",
       "      <td>05/06/2014</td>\n",
       "      <td>2012013028</td>\n",
       "    </tr>\n",
       "    <tr>\n",
       "      <th>11</th>\n",
       "      <td>Complaint</td>\n",
       "      <td>397669</td>\n",
       "      <td>09/05/2012</td>\n",
       "      <td>2012013028</td>\n",
       "    </tr>\n",
       "    <tr>\n",
       "      <th>12</th>\n",
       "      <td>Complaint</td>\n",
       "      <td>342898</td>\n",
       "      <td>04/26/2011</td>\n",
       "      <td>2012013028</td>\n",
       "    </tr>\n",
       "    <tr>\n",
       "      <th>13</th>\n",
       "      <td>Systematic Code Enforcement Program</td>\n",
       "      <td>293723</td>\n",
       "      <td>05/20/2010</td>\n",
       "      <td>2012013028</td>\n",
       "    </tr>\n",
       "    <tr>\n",
       "      <th>14</th>\n",
       "      <td>Systematic Code Enforcement Program</td>\n",
       "      <td>100178</td>\n",
       "      <td>12/28/2006</td>\n",
       "      <td>2012013028</td>\n",
       "    </tr>\n",
       "  </tbody>\n",
       "</table>\n",
       "</div>"
      ],
      "text/plain": [
       "                               Case Type Case Number Date Closed  \\\n",
       "0                              Complaint      757163  02/27/2020   \n",
       "1                              Complaint      628954  06/19/2017   \n",
       "2                              Complaint      628953  06/19/2017   \n",
       "3                              Complaint      628952  08/17/2017   \n",
       "4                              Complaint      608891  03/22/2017   \n",
       "5                              Complaint      593815  10/25/2016   \n",
       "6                              Complaint      593105  10/18/2016   \n",
       "7                              Complaint      572108  06/28/2016   \n",
       "8   Property Management Training Program      492351               \n",
       "9    Systematic Code Enforcement Program      492351  03/09/2015   \n",
       "10                             Complaint      470860  05/06/2014   \n",
       "11                             Complaint      397669  09/05/2012   \n",
       "12                             Complaint      342898  04/26/2011   \n",
       "13   Systematic Code Enforcement Program      293723  05/20/2010   \n",
       "14   Systematic Code Enforcement Program      100178  12/28/2006   \n",
       "\n",
       "   Assessor Parcel Number  \n",
       "0              2012013028  \n",
       "1              2012013028  \n",
       "2              2012013028  \n",
       "3              2012013028  \n",
       "4              2012013028  \n",
       "5              2012013028  \n",
       "6              2012013028  \n",
       "7              2012013028  \n",
       "8              2012013028  \n",
       "9              2012013028  \n",
       "10             2012013028  \n",
       "11             2012013028  \n",
       "12             2012013028  \n",
       "13             2012013028  \n",
       "14             2012013028  "
      ]
     },
     "execution_count": 215,
     "metadata": {},
     "output_type": "execute_result"
    }
   ],
   "source": [
    "table = soup.find('table', id='dgPropCases2')\n",
    "table_rows = table.find_all('tr')\n",
    "case_number = []\n",
    "prop_cases = []\n",
    "\n",
    "prop_cases_header = [i.text for i in table_rows[0].find_all('th')[1:]]\n",
    "\n",
    "for tr in table_rows[1:]:\n",
    "    # the first table row is the table header and therefore doesn't have td\n",
    "    td = tr.find_all('td')\n",
    "    row = [i.text for i in td[1:]]\n",
    "    # skipping first column as it's the hyper link buttom for select\n",
    "    prop_cases.append(row)\n",
    "    case_number.append(row[1])\n",
    "    \n",
    "prop_cases_df = pd.DataFrame(prop_cases, columns=prop_cases_header)\n",
    "prop_cases_df['Assessor Parcel Number'] = prop_info_dict['Assessor Parcel Number']\n",
    "prop_cases_df"
   ]
  },
  {
   "cell_type": "code",
   "execution_count": 216,
   "metadata": {},
   "outputs": [
    {
     "data": {
      "text/plain": [
       "{'Assessor Parcel Number': '2012013028',\n",
       " 'Council District': '3',\n",
       " 'Census Tract': '134304',\n",
       " 'Rent Registration Number': '0295048',\n",
       " 'Historical Preservation Overlay Zone': '',\n",
       " 'Total Units': '20',\n",
       " 'Regional Office': 'Valley Regional Office',\n",
       " 'Regional Office Contact': '(818) 756-1473',\n",
       " 'Official Address': '7851 N TOPANGA CANYON BLVD, CANOGA PARK 93063',\n",
       " 'Case Number': '628953',\n",
       " 'Case Type': 'Complaints',\n",
       " 'Inspector': '',\n",
       " 'Case Manager': '',\n",
       " 'Total Exemption Units': '0'}"
      ]
     },
     "execution_count": 216,
     "metadata": {},
     "output_type": "execute_result"
    }
   ],
   "source": [
    "url = 'https://housingapp.lacity.org/ReportViolation/Pages/PublicPropertyActivityReport?APN=2012013028&CaseType=1&CaseNo=' + case_number[2]\n",
    "\n",
    "result = requests.get(url)\n",
    "\n",
    "src = result.content\n",
    "soup = BeautifulSoup(src, 'lxml')\n",
    "\n",
    "info = soup.find('div', class_='card-body bg-white')\n",
    "\n",
    "key_list = info.find_all('dt')\n",
    "value_list = info.find_all('dd')\n",
    "prop_dict = {}\n",
    "\n",
    "for key, value in zip(key_list[:-1], value_list):\n",
    "    # the last row is empty\n",
    "    prop_dict[key.text[:-1]] = value.text\n",
    "    # this is to remove the extra colon in the key list\n",
    "    \n",
    "prop_dict"
   ]
  },
  {
   "cell_type": "markdown",
   "metadata": {},
   "source": [
    "### Nature of Complaint"
   ]
  },
  {
   "cell_type": "code",
   "execution_count": 217,
   "metadata": {},
   "outputs": [
    {
     "data": {
      "text/plain": [
       "'Nature of Complaint:'"
      ]
     },
     "execution_count": 217,
     "metadata": {},
     "output_type": "execute_result"
    }
   ],
   "source": [
    "nop = soup.find('span', id='lblCompNature').text.strip()\n",
    "nop"
   ]
  },
  {
   "cell_type": "code",
   "execution_count": 218,
   "metadata": {},
   "outputs": [
    {
     "data": {
      "text/plain": [
       "'Leaking or defective plumbing faucet or fixture, Damaged, defective or unsealed surface of plumbing fixture, Plaster/drywall wall/ceiling covering defective, deteriorated, or paint is peeling, Floor covering defective, missing, or unsafe, Windows, doors, cabinets, and frames not operable, defective, missing, and/or unsanitary, Appliance venting system requires maintenance'"
      ]
     },
     "execution_count": 218,
     "metadata": {},
     "output_type": "execute_result"
    }
   ],
   "source": [
    "nop_content = soup.find('span', id='lblComplaintNature').text\n",
    "nop_content"
   ]
  },
  {
   "cell_type": "markdown",
   "metadata": {},
   "source": [
    "### Property Activity Report"
   ]
  },
  {
   "cell_type": "code",
   "execution_count": 222,
   "metadata": {},
   "outputs": [
    {
     "data": {
      "text/plain": [
       "[['06/19/2017 07:52:00 AM', 'Complaint Closed', '628954'],\n",
       " '2012013028',\n",
       " ['06/14/2017 02:12:00 PM', 'Complaint Received', '628954'],\n",
       " '2012013028']"
      ]
     },
     "execution_count": 222,
     "metadata": {},
     "output_type": "execute_result"
    }
   ],
   "source": [
    "table = soup.find('table', id='dgDisplayDates2')\n",
    "table_rows = table.find_all('tr')\n",
    "prop_activity_report = []\n",
    "prop_activity_report_header = [i.text for i in table_header.find_all('th')]\n",
    "\n",
    "for tr in table_rows[1:]:\n",
    "    # the first table row is the table header and therefore doesn't have td\n",
    "    td = tr.find_all('td')\n",
    "    row = [i.text for i in td]\n",
    "    row.append(case_number[1])\n",
    "    ### Need to make sure to update to loop case number ###\n",
    "\n",
    "    prop_activity_report.append(row)\n",
    "    prop_activity_report.append(prop_info_dict['Assessor Parcel Number'])\n",
    "    \n",
    "    \n",
    "prop_activity_report    "
   ]
  }
 ],
 "metadata": {
  "kernelspec": {
   "display_name": "Python 3",
   "language": "python",
   "name": "python3"
  },
  "language_info": {
   "codemirror_mode": {
    "name": "ipython",
    "version": 3
   },
   "file_extension": ".py",
   "mimetype": "text/x-python",
   "name": "python",
   "nbconvert_exporter": "python",
   "pygments_lexer": "ipython3",
   "version": "3.7.3"
  }
 },
 "nbformat": 4,
 "nbformat_minor": 2
}
