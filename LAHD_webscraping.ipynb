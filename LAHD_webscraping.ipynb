{
 "cells": [
  {
   "cell_type": "code",
   "execution_count": 1,
   "metadata": {},
   "outputs": [],
   "source": [
    "import requests\n",
    "from bs4 import BeautifulSoup\n",
    "import pandas as pd"
   ]
  },
  {
   "cell_type": "markdown",
   "metadata": {},
   "source": [
    "### Property Information"
   ]
  },
  {
   "cell_type": "code",
   "execution_count": 2,
   "metadata": {},
   "outputs": [],
   "source": [
    "def soup_from_apn(apn_num):\n",
    "    # This function returns a soup object from an apn number\n",
    "    \n",
    "    url = 'https://housingapp.lacity.org/ReportViolation/Pages/PropAtivityCases?APN='+str(apn_num)+'#divPropDetails'\n",
    "    result = requests.get(url)\n",
    "    result.status_code\n",
    "\n",
    "    src = result.content\n",
    "    soup = BeautifulSoup(src, 'lxml')\n",
    "    return soup"
   ]
  },
  {
   "cell_type": "code",
   "execution_count": 3,
   "metadata": {},
   "outputs": [],
   "source": [
    "def create_prop_info_dict():\n",
    "    # this function returns a property infomation dictionary of a specific property \n",
    "\n",
    "    info = soup.find('div', class_='card-body bg-white')\n",
    "\n",
    "    key_list = info.find_all('dt')\n",
    "    value_list = info.find_all('dd')\n",
    "\n",
    "    prop_info_dict = {}\n",
    "    # This property info dictionary will be referenced multiple times later to create \n",
    "\n",
    "    for key, value in zip(key_list, value_list):\n",
    "        prop_info_dict[key.text[:-1]] = value.text\n",
    "        # this is to remove the extra colon in the key list\n",
    "\n",
    "    return prop_info_dict"
   ]
  },
  {
   "cell_type": "markdown",
   "metadata": {},
   "source": [
    "### Property Cases"
   ]
  },
  {
   "cell_type": "code",
   "execution_count": 4,
   "metadata": {
    "scrolled": false
   },
   "outputs": [],
   "source": [
    "def create_prop_cases_df():\n",
    "    # This function returns property cases dataframe, property case number list, and property cases list\n",
    "    \n",
    "    table = soup.find('table', id='dgPropCases2')\n",
    "    table_rows = table.find_all('tr')\n",
    "    case_number = []\n",
    "    prop_cases = []\n",
    "\n",
    "    prop_cases_header = [i.text for i in table_rows[0].find_all('th')[1:]]\n",
    "\n",
    "    for tr in table_rows[1:]:\n",
    "        # the first table row is the table header and therefore doesn't have td\n",
    "        td = tr.find_all('td')\n",
    "        row = [i.text for i in td[1:]]\n",
    "        # skipping first column as it's the hyper link buttom for select\n",
    "        prop_cases.append(row)\n",
    "        case_number.append(row[1])\n",
    "\n",
    "    prop_cases_df = pd.DataFrame(prop_cases, columns=prop_cases_header)\n",
    "    prop_cases_df['Assessor Parcel Number'] = prop_info_dict['Assessor Parcel Number']\n",
    "    \n",
    "    return prop_cases_df, case_number, prop_cases"
   ]
  },
  {
   "cell_type": "code",
   "execution_count": 5,
   "metadata": {},
   "outputs": [],
   "source": [
    "# url = 'https://housingapp.lacity.org/ReportViolation/Pages/PublicPropertyActivityReport?APN=2012013028&CaseType=1&CaseNo=' + case_number[2]\n",
    "# result = requests.get(url)\n",
    "# src = result.content\n",
    "# soup = BeautifulSoup(src, 'lxml')\n",
    "# info = soup.find('div', class_='card-body bg-white')\n",
    "\n",
    "# key_list = info.find_all('dt')\n",
    "# value_list = info.find_all('dd')\n",
    "# prop_dict = {}\n",
    "\n",
    "# for key, value in zip(key_list[:-1], value_list):\n",
    "#     # the last row is empty\n",
    "#     prop_dict[key.text[:-1]] = value.text\n",
    "#     # this is to remove the extra colon in the key list\n",
    "    \n",
    "# prop_dict"
   ]
  },
  {
   "cell_type": "markdown",
   "metadata": {},
   "source": [
    "### Property Activity Report"
   ]
  },
  {
   "cell_type": "code",
   "execution_count": 6,
   "metadata": {},
   "outputs": [],
   "source": [
    "def create_prop_activity_report_df(apn_num):\n",
    "    # This function returns prop_activity_report_df, noc, and noc_header \n",
    "    \n",
    "    url = 'https://housingapp.lacity.org/ReportViolation/Pages/PublicPropertyActivityReport?APN=+'+str(apn_num)+'&CaseType=1&CaseNo=' + case_number[0]\n",
    "    result = requests.get(url)\n",
    "    src = result.content\n",
    "    soup = BeautifulSoup(src, 'lxml')\n",
    "    \n",
    "    prop_activity_report = []\n",
    "    noc = []\n",
    "    noc_header = soup.find('span', id='lblCompNature').text.strip()\n",
    "\n",
    "    for number in case_number:\n",
    "        url = 'https://housingapp.lacity.org/ReportViolation/Pages/PublicPropertyActivityReport?APN='+str(apn_num)+'&CaseType=1&CaseNo=' + number\n",
    "\n",
    "        result = requests.get(url)\n",
    "\n",
    "        src = result.content\n",
    "        soup = BeautifulSoup(src, 'lxml')\n",
    "\n",
    "        table = soup.find('table', id='dgDisplayDates2')\n",
    "        table_rows = table.find_all('tr')\n",
    "        table_header = table_rows[0]\n",
    "\n",
    "        for tr in table_rows[1:]:\n",
    "            # the first table row is the table header and therefore doesn't have td\n",
    "            td = tr.find_all('td')\n",
    "            row = [i.text for i in td]\n",
    "            row.append(case_number[1])\n",
    "            row.append(prop_info_dict['Assessor Parcel Number'])\n",
    "\n",
    "            prop_activity_report.append(row)\n",
    "\n",
    "        noc.append(soup.find('span', id='lblComplaintNature').text)\n",
    "        # This is the nature of complaint\n",
    "\n",
    "    prop_activity_report_header = [i.text for i in table_header.find_all('th')]\n",
    "    prop_activity_report_header.append('Case Number')\n",
    "    prop_activity_report_header.append('Assessor Parcel Number')\n",
    "\n",
    "    prop_activity_report_df = pd.DataFrame(prop_activity_report, columns=prop_activity_report_header)\n",
    "    \n",
    "    return prop_activity_report_df, noc, noc_header"
   ]
  },
  {
   "cell_type": "code",
   "execution_count": 7,
   "metadata": {},
   "outputs": [],
   "source": [
    "soup = soup_from_apn(2012013028)\n",
    "prop_info_dict = create_prop_info_dict()\n",
    "prop_cases_df, case_number, prop_cases = create_prop_cases_df()"
   ]
  },
  {
   "cell_type": "code",
   "execution_count": 11,
   "metadata": {},
   "outputs": [
    {
     "data": {
      "text/html": [
       "<div>\n",
       "<style scoped>\n",
       "    .dataframe tbody tr th:only-of-type {\n",
       "        vertical-align: middle;\n",
       "    }\n",
       "\n",
       "    .dataframe tbody tr th {\n",
       "        vertical-align: top;\n",
       "    }\n",
       "\n",
       "    .dataframe thead th {\n",
       "        text-align: right;\n",
       "    }\n",
       "</style>\n",
       "<table border=\"1\" class=\"dataframe\">\n",
       "  <thead>\n",
       "    <tr style=\"text-align: right;\">\n",
       "      <th></th>\n",
       "      <th>Case Type</th>\n",
       "      <th>Case Number</th>\n",
       "      <th>Date Closed</th>\n",
       "      <th>Assessor Parcel Number</th>\n",
       "      <th>Nature of Complaint</th>\n",
       "    </tr>\n",
       "  </thead>\n",
       "  <tbody>\n",
       "    <tr>\n",
       "      <th>0</th>\n",
       "      <td>Complaint</td>\n",
       "      <td>757163</td>\n",
       "      <td>02/27/2020</td>\n",
       "      <td>2012013028</td>\n",
       "      <td>Lack of adequate flow of hot and/or cold runni...</td>\n",
       "    </tr>\n",
       "    <tr>\n",
       "      <th>1</th>\n",
       "      <td>Complaint</td>\n",
       "      <td>628954</td>\n",
       "      <td>06/19/2017</td>\n",
       "      <td>2012013028</td>\n",
       "      <td>Leaking or defective plumbing faucet or fixtur...</td>\n",
       "    </tr>\n",
       "    <tr>\n",
       "      <th>2</th>\n",
       "      <td>Complaint</td>\n",
       "      <td>628953</td>\n",
       "      <td>06/19/2017</td>\n",
       "      <td>2012013028</td>\n",
       "      <td>Leaking or defective plumbing faucet or fixtur...</td>\n",
       "    </tr>\n",
       "    <tr>\n",
       "      <th>3</th>\n",
       "      <td>Complaint</td>\n",
       "      <td>628952</td>\n",
       "      <td>08/17/2017</td>\n",
       "      <td>2012013028</td>\n",
       "      <td>Leaking or defective plumbing faucet or fixtur...</td>\n",
       "    </tr>\n",
       "    <tr>\n",
       "      <th>4</th>\n",
       "      <td>Complaint</td>\n",
       "      <td>608891</td>\n",
       "      <td>03/22/2017</td>\n",
       "      <td>2012013028</td>\n",
       "      <td>Floor covering defective, missing, or unsafe, ...</td>\n",
       "    </tr>\n",
       "  </tbody>\n",
       "</table>\n",
       "</div>"
      ],
      "text/plain": [
       "   Case Type Case Number Date Closed Assessor Parcel Number  \\\n",
       "0  Complaint      757163  02/27/2020             2012013028   \n",
       "1  Complaint      628954  06/19/2017             2012013028   \n",
       "2  Complaint      628953  06/19/2017             2012013028   \n",
       "3  Complaint      628952  08/17/2017             2012013028   \n",
       "4  Complaint      608891  03/22/2017             2012013028   \n",
       "\n",
       "                                 Nature of Complaint  \n",
       "0  Lack of adequate flow of hot and/or cold runni...  \n",
       "1  Leaking or defective plumbing faucet or fixtur...  \n",
       "2  Leaking or defective plumbing faucet or fixtur...  \n",
       "3  Leaking or defective plumbing faucet or fixtur...  \n",
       "4  Floor covering defective, missing, or unsafe, ...  "
      ]
     },
     "execution_count": 11,
     "metadata": {},
     "output_type": "execute_result"
    }
   ],
   "source": [
    "prop_activity_report_df, noc, noc_header = create_prop_activity_report_df(2012013028)\n",
    "prop_cases_df[noc_header[:-1]] = noc\n",
    "complaints_count = len(prop_cases_df[(prop_cases_df['Case Type'] == 'Complaint')])\n",
    "prop_info_dict['Total Number of Complaints'] = complaints_count\n",
    "prop_cases_df.head()"
   ]
  },
  {
   "cell_type": "code",
   "execution_count": 12,
   "metadata": {},
   "outputs": [
    {
     "data": {
      "text/html": [
       "<div>\n",
       "<style scoped>\n",
       "    .dataframe tbody tr th:only-of-type {\n",
       "        vertical-align: middle;\n",
       "    }\n",
       "\n",
       "    .dataframe tbody tr th {\n",
       "        vertical-align: top;\n",
       "    }\n",
       "\n",
       "    .dataframe thead th {\n",
       "        text-align: right;\n",
       "    }\n",
       "</style>\n",
       "<table border=\"1\" class=\"dataframe\">\n",
       "  <thead>\n",
       "    <tr style=\"text-align: right;\">\n",
       "      <th></th>\n",
       "      <th>Date</th>\n",
       "      <th>Status</th>\n",
       "      <th>Case Number</th>\n",
       "      <th>Assessor Parcel Number</th>\n",
       "    </tr>\n",
       "  </thead>\n",
       "  <tbody>\n",
       "    <tr>\n",
       "      <th>0</th>\n",
       "      <td>02/27/2020 10:50:00 AM</td>\n",
       "      <td>Complaint Closed</td>\n",
       "      <td>628954</td>\n",
       "      <td>2012013028</td>\n",
       "    </tr>\n",
       "    <tr>\n",
       "      <th>1</th>\n",
       "      <td>02/18/2020 04:04:00 PM</td>\n",
       "      <td>Complaint Received</td>\n",
       "      <td>628954</td>\n",
       "      <td>2012013028</td>\n",
       "    </tr>\n",
       "    <tr>\n",
       "      <th>2</th>\n",
       "      <td>06/19/2017 07:53:00 AM</td>\n",
       "      <td>Complaint Closed</td>\n",
       "      <td>628954</td>\n",
       "      <td>2012013028</td>\n",
       "    </tr>\n",
       "    <tr>\n",
       "      <th>3</th>\n",
       "      <td>06/14/2017 02:19:00 PM</td>\n",
       "      <td>Complaint Received</td>\n",
       "      <td>628954</td>\n",
       "      <td>2012013028</td>\n",
       "    </tr>\n",
       "    <tr>\n",
       "      <th>4</th>\n",
       "      <td>06/19/2017 07:52:00 AM</td>\n",
       "      <td>Complaint Closed</td>\n",
       "      <td>628954</td>\n",
       "      <td>2012013028</td>\n",
       "    </tr>\n",
       "  </tbody>\n",
       "</table>\n",
       "</div>"
      ],
      "text/plain": [
       "                     Date              Status Case Number  \\\n",
       "0  02/27/2020 10:50:00 AM    Complaint Closed      628954   \n",
       "1  02/18/2020 04:04:00 PM  Complaint Received      628954   \n",
       "2  06/19/2017 07:53:00 AM    Complaint Closed      628954   \n",
       "3  06/14/2017 02:19:00 PM  Complaint Received      628954   \n",
       "4  06/19/2017 07:52:00 AM    Complaint Closed      628954   \n",
       "\n",
       "  Assessor Parcel Number  \n",
       "0             2012013028  \n",
       "1             2012013028  \n",
       "2             2012013028  \n",
       "3             2012013028  \n",
       "4             2012013028  "
      ]
     },
     "execution_count": 12,
     "metadata": {},
     "output_type": "execute_result"
    }
   ],
   "source": [
    "prop_activity_report_df.head()"
   ]
  },
  {
   "cell_type": "markdown",
   "metadata": {},
   "source": [
    "### Complete LAHD APN Numbers"
   ]
  },
  {
   "cell_type": "code",
   "execution_count": 9,
   "metadata": {},
   "outputs": [],
   "source": [
    "rso_list = pd.read_csv('RSO List/rso cpra workbook.csv')\n",
    "apn_list = rso_list['APN'].to_list()"
   ]
  },
  {
   "cell_type": "code",
   "execution_count": 10,
   "metadata": {},
   "outputs": [
    {
     "data": {
      "text/plain": [
       "[5533004021, 5503017004, 5504030100, 5467031017, 6063004043]"
      ]
     },
     "execution_count": 10,
     "metadata": {},
     "output_type": "execute_result"
    }
   ],
   "source": [
    "apn_list[:5]"
   ]
  }
 ],
 "metadata": {
  "kernelspec": {
   "display_name": "Python 3",
   "language": "python",
   "name": "python3"
  },
  "language_info": {
   "codemirror_mode": {
    "name": "ipython",
    "version": 3
   },
   "file_extension": ".py",
   "mimetype": "text/x-python",
   "name": "python",
   "nbconvert_exporter": "python",
   "pygments_lexer": "ipython3",
   "version": "3.7.3"
  }
 },
 "nbformat": 4,
 "nbformat_minor": 2
}
