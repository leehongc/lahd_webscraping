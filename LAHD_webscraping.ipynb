{
 "cells": [
  {
   "cell_type": "code",
   "execution_count": 1,
   "metadata": {},
   "outputs": [],
   "source": [
    "import requests\n",
    "from bs4 import BeautifulSoup\n"
   ]
  },
  {
   "cell_type": "markdown",
   "metadata": {},
   "source": [
    "### Property Information"
   ]
  },
  {
   "cell_type": "code",
   "execution_count": 2,
   "metadata": {},
   "outputs": [
    {
     "data": {
      "text/plain": [
       "200"
      ]
     },
     "execution_count": 2,
     "metadata": {},
     "output_type": "execute_result"
    }
   ],
   "source": [
    "url = 'https://housingapp.lacity.org/ReportViolation/Pages/PropAtivityCases?APN=2012013028#divPropDetails'\n",
    "result = requests.get(url)\n",
    "result.status_code"
   ]
  },
  {
   "cell_type": "code",
   "execution_count": 3,
   "metadata": {
    "scrolled": true
   },
   "outputs": [
    {
     "data": {
      "text/plain": [
       "'PROPERTY INFORMATION'"
      ]
     },
     "execution_count": 3,
     "metadata": {},
     "output_type": "execute_result"
    }
   ],
   "source": [
    "src = result.content\n",
    "soup = BeautifulSoup(src, 'lxml')\n",
    "content = soup.find('div', id='divPropDetails')\n",
    "\n",
    "prop_info_title = content.h1.text\n",
    "prop_info_title"
   ]
  },
  {
   "cell_type": "code",
   "execution_count": 4,
   "metadata": {},
   "outputs": [
    {
     "data": {
      "text/plain": [
       "<div class=\"card bg-info text-left card-main\" id=\"divPropDetails\" name=\"divPropDetails\" tabindex=\"-1\">\n",
       "<div class=\"card-header\"><h1 class=\"card-header-title mb-0\">PROPERTY INFORMATION</h1></div>\n",
       "<div class=\"card-body bg-white\">\n",
       "<dl class=\"row\">\n",
       "<div class=\"col-md-5\">\n",
       "<dt><strong class=\"mr-2\">Assessor Parcel Number:</strong></dt>\n",
       "<dd><span id=\"lblAPN2\">2012013028</span></dd>\n",
       "<dt><strong class=\"mr-2\">Total Units (legal unit count may vary):</strong></dt>\n",
       "<dd><span id=\"lblTotalPropUnits\">20</span></dd>\n",
       "<dt><strong class=\"mr-2\">Rent Registration Number:</strong></dt>\n",
       "<dd><span id=\"lblRSU\">0295048</span></dd>\n",
       "<dt><strong class=\"mr-2\">*Census Tract:</strong></dt>\n",
       "<dd><span id=\"lblCT\">134304</span></dd>\n",
       "<dt><strong class=\"mr-2\">*Council District:</strong></dt>\n",
       "<dd><span id=\"lblCD\">3</span></dd>\n",
       "</div>\n",
       "<div class=\"col-md-7\">\n",
       "<dt><strong class=\"mr-2\">Official Address:</strong></dt>\n",
       "<dd><span id=\"lblAddress\">7851 N TOPANGA CANYON BLVD, CANOGA PARK, CA 93063</span></dd>\n",
       "<dt><strong class=\"mr-2\">Total Exemption Units:</strong></dt>\n",
       "<dd><span id=\"lblSCEPExemptions\">0</span></dd>\n",
       "<dt><strong class=\"mr-2\">Rent Office ID:</strong></dt>\n",
       "<dd><span id=\"lblRentOfficeID\">Valley</span></dd>\n",
       "<dt><strong class=\"mr-2\">Code Regional Area:</strong></dt>\n",
       "<dd><span id=\"lblCodeRegionalArea\">Valley Regional Office</span></dd>\n",
       "<dt><strong class=\"mr-2\">Year Built:</strong></dt>\n",
       "<dd><span id=\"lblYear\">1974</span></dd>\n",
       "</div>\n",
       "</dl>\n",
       "<div class=\"col-md-12\"><p>*Bureau of Engineering Data</p></div>\n",
       "<!--<div class=\"card bg-warning\">\n",
       "                            <div class=\"card-body bg-white\">\n",
       "                            <p class=\"card-text\">To make a complaint regarding living conditions or possible code violation(s) at a multifamily rental property such as a duplex, apartment house, rooming house or bungalow complex you may do so by using this website. To do so you start by filling out the form below.  Or you may call the Los Angeles Housing + Community Investment Department (HCIDLA) at 866-557-RENT (7368) to make a complaint.</p>\n",
       "                            <p class=\"card-text\">For properties containing only one dwelling/house, residential condominiums, commercial/industrial buildings, vacant buildings or vacant lots you should contact the Department of Building and Safety at 888-LA4-BUILD or 888-524-2845.</p>\n",
       "                            -->\n",
       "</div>\n",
       "</div>"
      ]
     },
     "execution_count": 4,
     "metadata": {},
     "output_type": "execute_result"
    }
   ],
   "source": [
    "content"
   ]
  },
  {
   "cell_type": "code",
   "execution_count": 5,
   "metadata": {},
   "outputs": [
    {
     "data": {
      "text/plain": [
       "['Assessor Parcel Number:',\n",
       " 'Total Units (legal unit count may vary):',\n",
       " 'Rent Registration Number:',\n",
       " '*Census Tract:',\n",
       " '*Council District:',\n",
       " 'Official Address:',\n",
       " 'Total Exemption Units:',\n",
       " 'Rent Office ID:',\n",
       " 'Code Regional Area:',\n",
       " 'Year Built:']"
      ]
     },
     "execution_count": 5,
     "metadata": {},
     "output_type": "execute_result"
    }
   ],
   "source": [
    "info = soup.find('div', class_='card-body bg-white')\n",
    "\n",
    "info_keys = []\n",
    "for item in info.find_all('dt'):\n",
    "    info_keys.append(item.text) \n",
    "    \n",
    "info_keys"
   ]
  },
  {
   "cell_type": "code",
   "execution_count": 6,
   "metadata": {},
   "outputs": [
    {
     "data": {
      "text/plain": [
       "['2012013028',\n",
       " '20',\n",
       " '0295048',\n",
       " '134304',\n",
       " '3',\n",
       " '7851 N TOPANGA CANYON BLVD, CANOGA PARK, CA 93063',\n",
       " '0',\n",
       " 'Valley',\n",
       " 'Valley Regional Office',\n",
       " '1974']"
      ]
     },
     "execution_count": 6,
     "metadata": {},
     "output_type": "execute_result"
    }
   ],
   "source": [
    "info_values = []\n",
    "\n",
    "for item in info.find_all('dd'):\n",
    "    info_values.append(item.text)\n",
    "    \n",
    "info_values"
   ]
  },
  {
   "cell_type": "code",
   "execution_count": 7,
   "metadata": {},
   "outputs": [
    {
     "data": {
      "text/plain": [
       "{'Assessor Parcel Number': '2012013028',\n",
       " 'Total Units (legal unit count may vary)': '20',\n",
       " 'Rent Registration Number': '0295048',\n",
       " '*Census Tract': '134304',\n",
       " '*Council District': '3',\n",
       " 'Official Address': '7851 N TOPANGA CANYON BLVD, CANOGA PARK, CA 93063',\n",
       " 'Total Exemption Units': '0',\n",
       " 'Rent Office ID': 'Valley',\n",
       " 'Code Regional Area': 'Valley Regional Office',\n",
       " 'Year Built': '1974'}"
      ]
     },
     "execution_count": 7,
     "metadata": {},
     "output_type": "execute_result"
    }
   ],
   "source": [
    "key_list = info.find_all('dt')\n",
    "value_list = info.find_all('dd')\n",
    "prop_dict = {}\n",
    "\n",
    "for key, value in zip(key_list, value_list):\n",
    "    prop_dict[key.text[:-1]] = value.text\n",
    "    # this is to remove the extra colon in the key list\n",
    "    \n",
    "prop_dict"
   ]
  },
  {
   "cell_type": "markdown",
   "metadata": {},
   "source": [
    "### Property Cases"
   ]
  },
  {
   "cell_type": "code",
   "execution_count": 8,
   "metadata": {},
   "outputs": [
    {
     "data": {
      "text/plain": [
       "<tr>\n",
       "<th align=\"center\" scope=\"col\">Action</th><th scope=\"col\">Case Type</th><th scope=\"col\">Case Number</th><th scope=\"col\">Date Closed</th>\n",
       "</tr>"
      ]
     },
     "execution_count": 8,
     "metadata": {},
     "output_type": "execute_result"
    }
   ],
   "source": [
    "table = soup.find('table', id='dgPropCases2')\n",
    "table_rows = table.find_all('tr')\n",
    "table_rows[0]"
   ]
  },
  {
   "cell_type": "code",
   "execution_count": 9,
   "metadata": {},
   "outputs": [
    {
     "name": "stdout",
     "output_type": "stream",
     "text": [
      "['\\nSelect\\n', 'Complaint', '757163', '02/27/2020']\n",
      "['\\nSelect\\n', 'Complaint', '628954', '06/19/2017']\n",
      "['\\nSelect\\n', 'Complaint', '628953', '06/19/2017']\n",
      "['\\nSelect\\n', 'Complaint', '628952', '08/17/2017']\n",
      "['\\nSelect\\n', 'Complaint', '608891', '03/22/2017']\n",
      "['\\nSelect\\n', 'Complaint', '593815', '10/25/2016']\n",
      "['\\nSelect\\n', 'Complaint', '593105', '10/18/2016']\n",
      "['\\nSelect\\n', 'Complaint', '572108', '06/28/2016']\n",
      "['\\nSelect\\n', 'Property Management Training Program', '492351', '\\xa0']\n",
      "['\\nSelect\\n', 'Systematic Code Enforcement Program', '492351', '03/09/2015']\n",
      "['\\nSelect\\n', 'Complaint', '470860', '05/06/2014']\n",
      "['\\nSelect\\n', 'Complaint', '397669', '09/05/2012']\n",
      "['\\nSelect\\n', 'Complaint', '342898', '04/26/2011']\n",
      "['\\nSelect\\n', 'Systematic Code Enforcement Program', '293723', '05/20/2010']\n",
      "['\\nSelect\\n', 'Systematic Code Enforcement Program', '100178', '12/28/2006']\n",
      "['757163', '628954', '628953', '628952', '608891', '593815', '593105', '572108', '492351', '492351', '470860', '397669', '342898', '293723', '100178']\n"
     ]
    }
   ],
   "source": [
    "table = soup.find('table', id='dgPropCases2')\n",
    "table_rows = table.find_all('tr')\n",
    "case_number = []\n",
    "\n",
    "for tr in table_rows[1:]:\n",
    "    # the first table row is the table header and therefore doesn't have td\n",
    "    td = tr.find_all('td')\n",
    "    row = [i.text for i in td]\n",
    "    case_number.append(row[2])\n",
    "    print(row)\n",
    "    \n",
    "print(case_number)"
   ]
  },
  {
   "cell_type": "code",
   "execution_count": 15,
   "metadata": {},
   "outputs": [
    {
     "data": {
      "text/plain": [
       "{'Assessor Parcel Number': '2012013028',\n",
       " 'Council District': '3',\n",
       " 'Census Tract': '134304',\n",
       " 'Rent Registration Number': '0295048',\n",
       " 'Historical Preservation Overlay Zone': '',\n",
       " 'Total Units': '20',\n",
       " 'Regional Office': 'Valley Regional Office',\n",
       " 'Regional Office Contact': '(818) 756-1473',\n",
       " 'Official Address': '7851 N TOPANGA CANYON BLVD, CANOGA PARK 93063',\n",
       " 'Case Number': '628954',\n",
       " 'Case Type': 'Complaints',\n",
       " 'Inspector': '',\n",
       " 'Case Manager': '',\n",
       " 'Total Exemption Units': '0'}"
      ]
     },
     "execution_count": 15,
     "metadata": {},
     "output_type": "execute_result"
    }
   ],
   "source": [
    "url = 'https://housingapp.lacity.org/ReportViolation/Pages/PublicPropertyActivityReport?APN=2012013028&CaseType=1&CaseNo=' + case_number[1]\n",
    "# case number in the url is referencing the case number from the property cases table above\n",
    "\n",
    "result = requests.get(url)\n",
    "\n",
    "src = result.content\n",
    "soup = BeautifulSoup(src, 'lxml')\n",
    "\n",
    "info = soup.find('div', class_='card-body bg-white')\n",
    "\n",
    "key_list = info.find_all('dt')\n",
    "value_list = info.find_all('dd')\n",
    "prop_dict = {}\n",
    "\n",
    "for key, value in zip(key_list[:-1], value_list[:-1]):\n",
    "    # the last row is empty\n",
    "    prop_dict[key.text[:-1]] = value.text\n",
    "    # this is to remove the extra colon in the key list\n",
    "    \n",
    "prop_dict"
   ]
  },
  {
   "cell_type": "markdown",
   "metadata": {},
   "source": [
    "### Nature of Complaint"
   ]
  },
  {
   "cell_type": "code",
   "execution_count": 16,
   "metadata": {},
   "outputs": [
    {
     "data": {
      "text/plain": [
       "'Nature of Complaint:'"
      ]
     },
     "execution_count": 16,
     "metadata": {},
     "output_type": "execute_result"
    }
   ],
   "source": [
    "soup.find('span', id='lblCompNature').text.strip()"
   ]
  },
  {
   "cell_type": "code",
   "execution_count": 17,
   "metadata": {},
   "outputs": [
    {
     "data": {
      "text/plain": [
       "'Leaking or defective plumbing faucet or fixture, Damaged, defective or unsealed surface of plumbing fixture, Plaster/drywall wall/ceiling covering defective, deteriorated, or paint is peeling, Floor covering defective, missing, or unsafe, Windows, doors, cabinets, and frames not operable, defective, missing, and/or unsanitary, Appliance venting system requires maintenance'"
      ]
     },
     "execution_count": 17,
     "metadata": {},
     "output_type": "execute_result"
    }
   ],
   "source": [
    "soup.find('span', id='lblComplaintNature').text"
   ]
  },
  {
   "cell_type": "markdown",
   "metadata": {},
   "source": [
    "### Property Activity Report"
   ]
  },
  {
   "cell_type": "code",
   "execution_count": 18,
   "metadata": {},
   "outputs": [
    {
     "name": "stdout",
     "output_type": "stream",
     "text": [
      "['06/19/2017 07:53:00 AM', 'Complaint Closed']\n",
      "['06/14/2017 02:19:00 PM', 'Complaint Received']\n"
     ]
    }
   ],
   "source": [
    "table = soup.find('table', id='dgDisplayDates2')\n",
    "table_rows = table.find_all('tr')\n",
    "\n",
    "for tr in table_rows[1:]:\n",
    "    # the first table row is the table header and therefore doesn't have td\n",
    "    td = tr.find_all('td')\n",
    "    row = [i.text for i in td]\n",
    "    print(row)"
   ]
  }
 ],
 "metadata": {
  "kernelspec": {
   "display_name": "Python 3",
   "language": "python",
   "name": "python3"
  },
  "language_info": {
   "codemirror_mode": {
    "name": "ipython",
    "version": 3
   },
   "file_extension": ".py",
   "mimetype": "text/x-python",
   "name": "python",
   "nbconvert_exporter": "python",
   "pygments_lexer": "ipython3",
   "version": "3.7.3"
  }
 },
 "nbformat": 4,
 "nbformat_minor": 2
}
