{
 "cells": [
  {
   "cell_type": "code",
   "execution_count": 102,
   "metadata": {},
   "outputs": [],
   "source": [
    "import requests\n",
    "from bs4 import BeautifulSoup\n",
    "import pandas as pd"
   ]
  },
  {
   "cell_type": "markdown",
   "metadata": {},
   "source": [
    "### Property Information"
   ]
  },
  {
   "cell_type": "code",
   "execution_count": 103,
   "metadata": {},
   "outputs": [
    {
     "data": {
      "text/plain": [
       "200"
      ]
     },
     "execution_count": 103,
     "metadata": {},
     "output_type": "execute_result"
    }
   ],
   "source": [
    "url = 'https://housingapp.lacity.org/ReportViolation/Pages/PropAtivityCases?APN=2012013028#divPropDetails'\n",
    "result = requests.get(url)\n",
    "result.status_code"
   ]
  },
  {
   "cell_type": "code",
   "execution_count": 104,
   "metadata": {
    "scrolled": true
   },
   "outputs": [],
   "source": [
    "src = result.content\n",
    "soup = BeautifulSoup(src, 'lxml')"
   ]
  },
  {
   "cell_type": "code",
   "execution_count": 105,
   "metadata": {},
   "outputs": [
    {
     "data": {
      "text/plain": [
       "{'Assessor Parcel Number': '2012013028',\n",
       " 'Total Units (legal unit count may vary)': '20',\n",
       " 'Rent Registration Number': '0295048',\n",
       " '*Census Tract': '134304',\n",
       " '*Council District': '3',\n",
       " 'Official Address': '7851 N TOPANGA CANYON BLVD, CANOGA PARK, CA 93063',\n",
       " 'Total Exemption Units': '0',\n",
       " 'Rent Office ID': 'Valley',\n",
       " 'Code Regional Area': 'Valley Regional Office',\n",
       " 'Year Built': '1974'}"
      ]
     },
     "execution_count": 105,
     "metadata": {},
     "output_type": "execute_result"
    }
   ],
   "source": [
    "info = soup.find('div', class_='card-body bg-white')\n",
    "\n",
    "key_list = info.find_all('dt')\n",
    "value_list = info.find_all('dd')\n",
    "prop_info_dict = {}\n",
    "\n",
    "for key, value in zip(key_list, value_list):\n",
    "    prop_info_dict[key.text[:-1]] = value.text\n",
    "    # this is to remove the extra colon in the key list\n",
    "    \n",
    "prop_info_dict"
   ]
  },
  {
   "cell_type": "markdown",
   "metadata": {},
   "source": [
    "### Property Cases"
   ]
  },
  {
   "cell_type": "code",
   "execution_count": 106,
   "metadata": {},
   "outputs": [
    {
     "name": "stdout",
     "output_type": "stream",
     "text": [
      "['Case Type', 'Case Number', 'Date Closed']\n",
      "['Complaint', '757163', '02/27/2020']\n",
      "['Complaint', '628954', '06/19/2017']\n",
      "['Complaint', '628953', '06/19/2017']\n",
      "['Complaint', '628952', '08/17/2017']\n",
      "['Complaint', '608891', '03/22/2017']\n",
      "['Complaint', '593815', '10/25/2016']\n",
      "['Complaint', '593105', '10/18/2016']\n",
      "['Complaint', '572108', '06/28/2016']\n",
      "['Property Management Training Program', '492351', '\\xa0']\n",
      "['Systematic Code Enforcement Program', '492351', '03/09/2015']\n",
      "['Complaint', '470860', '05/06/2014']\n",
      "['Complaint', '397669', '09/05/2012']\n",
      "['Complaint', '342898', '04/26/2011']\n",
      "['Systematic Code Enforcement Program', '293723', '05/20/2010']\n",
      "['Systematic Code Enforcement Program', '100178', '12/28/2006']\n",
      "['757163', '628954', '628953', '628952', '608891', '593815', '593105', '572108', '492351', '492351', '470860', '397669', '342898', '293723', '100178']\n"
     ]
    }
   ],
   "source": [
    "table = soup.find('table', id='dgPropCases2')\n",
    "table_rows = table.find_all('tr')\n",
    "case_number = []\n",
    "\n",
    "table_header = table_rows[0]\n",
    "print([i.text for i in table_header.find_all('th')[1:]])\n",
    "\n",
    "for tr in table_rows[1:]:\n",
    "    # the first table row is the table header and therefore doesn't have td\n",
    "    td = tr.find_all('td')\n",
    "    row = [i.text for i in td[1:]]\n",
    "    # skipping first column as it's the hyper link buttom for select\n",
    "    case_number.append(row[1])\n",
    "    print(row)\n",
    "    \n",
    "print(case_number)\n",
    "\n",
    "\n"
   ]
  },
  {
   "cell_type": "code",
   "execution_count": 107,
   "metadata": {},
   "outputs": [
    {
     "data": {
      "text/plain": [
       "{'Assessor Parcel Number': '2012013028',\n",
       " 'Council District': '3',\n",
       " 'Census Tract': '134304',\n",
       " 'Rent Registration Number': '0295048',\n",
       " 'Historical Preservation Overlay Zone': '',\n",
       " 'Total Units': '20',\n",
       " 'Regional Office': 'Valley Regional Office',\n",
       " 'Regional Office Contact': '(818) 756-1473',\n",
       " 'Official Address': '7851 N TOPANGA CANYON BLVD, CANOGA PARK 93063',\n",
       " 'Case Number': '628954',\n",
       " 'Case Type': 'Complaints',\n",
       " 'Inspector': '',\n",
       " 'Case Manager': '',\n",
       " 'Total Exemption Units': '0'}"
      ]
     },
     "execution_count": 107,
     "metadata": {},
     "output_type": "execute_result"
    }
   ],
   "source": [
    "url = 'https://housingapp.lacity.org/ReportViolation/Pages/PublicPropertyActivityReport?APN=2012013028&CaseType=1&CaseNo=' + case_number[1]\n",
    "\n",
    "result = requests.get(url)\n",
    "\n",
    "src = result.content\n",
    "soup = BeautifulSoup(src, 'lxml')\n",
    "\n",
    "info = soup.find('div', class_='card-body bg-white')\n",
    "\n",
    "key_list = info.find_all('dt')\n",
    "value_list = info.find_all('dd')\n",
    "prop_dict = {}\n",
    "\n",
    "for key, value in zip(key_list[:-1], value_list):\n",
    "    # the last row is empty\n",
    "    prop_dict[key.text[:-1]] = value.text\n",
    "    # this is to remove the extra colon in the key list\n",
    "    \n",
    "prop_dict"
   ]
  },
  {
   "cell_type": "markdown",
   "metadata": {},
   "source": [
    "### Nature of Complaint"
   ]
  },
  {
   "cell_type": "code",
   "execution_count": 108,
   "metadata": {},
   "outputs": [
    {
     "data": {
      "text/plain": [
       "'Nature of Complaint:'"
      ]
     },
     "execution_count": 108,
     "metadata": {},
     "output_type": "execute_result"
    }
   ],
   "source": [
    "nop = soup.find('span', id='lblCompNature').text.strip()\n",
    "nop"
   ]
  },
  {
   "cell_type": "code",
   "execution_count": 109,
   "metadata": {},
   "outputs": [
    {
     "data": {
      "text/plain": [
       "'Leaking or defective plumbing faucet or fixture, Damaged, defective or unsealed surface of plumbing fixture, Plaster/drywall wall/ceiling covering defective, deteriorated, or paint is peeling, Floor covering defective, missing, or unsafe, Windows, doors, cabinets, and frames not operable, defective, missing, and/or unsanitary, Appliance venting system requires maintenance'"
      ]
     },
     "execution_count": 109,
     "metadata": {},
     "output_type": "execute_result"
    }
   ],
   "source": [
    "nop_content = soup.find('span', id='lblComplaintNature').text\n",
    "nop_content"
   ]
  },
  {
   "cell_type": "markdown",
   "metadata": {},
   "source": [
    "### Property Activity Report"
   ]
  },
  {
   "cell_type": "code",
   "execution_count": 115,
   "metadata": {},
   "outputs": [
    {
     "name": "stdout",
     "output_type": "stream",
     "text": [
      "['Date', 'Status']\n",
      "['06/19/2017 07:53:00 AM', 'Complaint Closed']\n",
      "['06/14/2017 02:19:00 PM', 'Complaint Received']\n"
     ]
    }
   ],
   "source": [
    "table = soup.find('table', id='dgDisplayDates2')\n",
    "table_rows = table.find_all('tr')\n",
    "table_header = table_rows[0]\n",
    "\n",
    "print([i.text for i in table_header.find_all('th')])\n",
    "\n",
    "for tr in table_rows[1:]:\n",
    "    # the first table row is the table header and therefore doesn't have td\n",
    "    td = tr.find_all('td')\n",
    "    row = [i.text for i in td]\n",
    "    print(row)\n"
   ]
  },
  {
   "cell_type": "code",
   "execution_count": 111,
   "metadata": {},
   "outputs": [
    {
     "data": {
      "text/plain": [
       "'2012013028'"
      ]
     },
     "execution_count": 111,
     "metadata": {},
     "output_type": "execute_result"
    }
   ],
   "source": [
    "prop_info_dict['Assessor Parcel Number']"
   ]
  }
 ],
 "metadata": {
  "kernelspec": {
   "display_name": "Python 3",
   "language": "python",
   "name": "python3"
  },
  "language_info": {
   "codemirror_mode": {
    "name": "ipython",
    "version": 3
   },
   "file_extension": ".py",
   "mimetype": "text/x-python",
   "name": "python",
   "nbconvert_exporter": "python",
   "pygments_lexer": "ipython3",
   "version": "3.7.3"
  }
 },
 "nbformat": 4,
 "nbformat_minor": 2
}
