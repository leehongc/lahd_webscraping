{
 "cells": [
  {
   "cell_type": "code",
   "execution_count": 3,
   "metadata": {},
   "outputs": [
    {
     "name": "stdout",
     "output_type": "stream",
     "text": [
      "[(1, 'Bob'), (2, 'Anthony'), (3, 'James'), (4, 'Bob'), (5, 'Anthony'), (6, 'James'), (7, 'Bob'), (8, 'Anthony'), (9, 'James')]\n"
     ]
    }
   ],
   "source": [
    "import psycopg2\n",
    "import os\n",
    "\n",
    "DB_HOST = os.environ.get('PG_DB_HOST')\n",
    "DB_USER = os.environ.get('PG_DB_USER')\n",
    "DB_PORT = os.environ.get('PG_DB_PORT')\n",
    "DB_NAME = 'lahd_scrape'\n",
    "\n",
    "\n",
    "conn = psycopg2.connect(host=DB_HOST, port = DB_PORT, database=DB_NAME, user=DB_USER)\n",
    "\n",
    "# Create a cursor object\n",
    "cur = conn.cursor()\n",
    "\n",
    "cur.execute('CREATE TABLE student3 (id SERIAL PRIMARY KEY, name VARCHAR);')\n",
    "\n",
    "cur.execute('INSERT INTO student (name) VALUES(%s)', ('Bob',))\n",
    "cur.execute('INSERT INTO student (name) VALUES(%s)', ('Anthony',))\n",
    "cur.execute('INSERT INTO student (name) VALUES(%s)', ('James',))\n",
    "\n",
    "cur.execute('SELECT * FROM student;')\n",
    "print(cur.fetchall())\n",
    "\n",
    "conn.commit()\n",
    "\n",
    "# Close the cursor and connection to so the server can allocate\n",
    "# bandwidth to other requests\n",
    "cur.close()\n",
    "conn.close()"
   ]
  },
  {
   "cell_type": "code",
   "execution_count": null,
   "metadata": {},
   "outputs": [],
   "source": []
  }
 ],
 "metadata": {
  "kernelspec": {
   "display_name": "Python 3",
   "language": "python",
   "name": "python3"
  },
  "language_info": {
   "codemirror_mode": {
    "name": "ipython",
    "version": 3
   },
   "file_extension": ".py",
   "mimetype": "text/x-python",
   "name": "python",
   "nbconvert_exporter": "python",
   "pygments_lexer": "ipython3",
   "version": "3.7.3"
  }
 },
 "nbformat": 4,
 "nbformat_minor": 2
}
